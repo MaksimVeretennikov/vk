{
 "cells": [
  {
   "cell_type": "code",
   "execution_count": 4,
   "metadata": {
    "scrolled": true
   },
   "outputs": [
    {
     "name": "stdout",
     "output_type": "stream",
     "text": [
      "User was deleted or banned\n",
      "User was deleted or banned\n"
     ]
    }
   ],
   "source": [
    "import urllib\n",
    "import json\n",
    "import time\n",
    "\n",
    "friends_ids = []\n",
    "\n",
    "def search_top1():\n",
    "    global firends_ids\n",
    "    app_id = '7879822'\n",
    "    user_id = '221596998'\n",
    "    URL = \"https://api.vk.com/method/\"\n",
    "    file = open('/Users/maksimveretennikov/Desktop/Coding/Python/VK_Experiments/access_token.txt', 'r')\n",
    "    access_token = file.read()\n",
    "    file.close()\n",
    "    #сам запрос\n",
    "    response = urllib.request.urlopen(URL + 'friends.get?user_id=' + user_id + '&order=hints' + '&fields=nickname' + '&v=5.80&access_token=' + access_token)\n",
    "    #преобразуем в json формат и в словарь\n",
    "    json_m = response.read().decode('utf-8')\n",
    "    data = json.loads(json_m)\n",
    "    messages = []\n",
    "    if 'response' in data:\n",
    "        for i in data['response']['items']:\n",
    "            friends_ids.append(i['id'])\n",
    "            messages.append(i['first_name'] + ' ' + i['last_name'] + '\\n')\n",
    "            #messages.append(i['first_name'] + ' ' + i['last_name'])\n",
    "    elif 'error' in data:\n",
    "        messages.append(data['error']['error_msg'])\n",
    "    else:\n",
    "        messages.append(\"Что-то пошло не так...\")\n",
    "    return messages\n",
    "\n",
    "friends_names = search_top1()\n",
    "bad_words = [u\"бля\", u\"хуй\", u\"пизд\", u\"пидор\", u\"еба\"]\n",
    "num = 0\n",
    "wait = 1\n",
    "interesting_list = []\n",
    "file_friends_curse = open('/Users/maksimveretennikov/Desktop/Coding/Python/cursing_friends.txt', 'w+')\n",
    "\n",
    "for owner_id in friends_ids:\n",
    "    for word in bad_words:\n",
    "        URL = \"https://api.vk.com/method/\"\n",
    "        count = '100'\n",
    "        query = urllib.parse.quote(word.encode('utf-8'))\n",
    "        file = open('/Users/maksimveretennikov/Desktop/Coding/Python/VK_Experiments/access_token.txt', 'r')\n",
    "        access_token = file.read()\n",
    "        file.close()\n",
    "        response = urllib.request.urlopen(URL + 'wall.search?owner_id=' + str(owner_id) + '&query=' + query + '&count=' + count + '&owners_only=0' + '&v=5.74&access_token=' + access_token)\n",
    "        time.sleep(0.3)\n",
    "        json_m = response.read().decode('utf-8')\n",
    "        data = json.loads(json_m)\n",
    "        if 'response' in data:\n",
    "            num += data['response']['count']\n",
    "        elif 'error' in data:\n",
    "            print(data['error']['error_msg'])\n",
    "            break\n",
    "        else:\n",
    "            print(\"Что-то пошло не так\")\n",
    "            break\n",
    "    interesting_list.append(num)\n",
    "    file_friends_curse.write(str(wait) + ' : ' + str(num) + \" - \" + friends_names[wait - 1])\n",
    "    num = 0\n",
    "    wait += 1\n",
    "\n",
    "file_friends_curse.close()"
   ]
  },
  {
   "cell_type": "markdown",
   "metadata": {},
   "source": [
    "## Результат\n",
    "\n",
    "Всего у 2 человек из моих друзей есть мат на стене ВК. Вывод: люди стараются не допускать ненормативной лексики  \n",
    "у себя на стенах либо вообще их не ведут. "
   ]
  }
 ],
 "metadata": {
  "kernelspec": {
   "display_name": "Python 3",
   "language": "python",
   "name": "python3"
  },
  "language_info": {
   "codemirror_mode": {
    "name": "ipython",
    "version": 3
   },
   "file_extension": ".py",
   "mimetype": "text/x-python",
   "name": "python",
   "nbconvert_exporter": "python",
   "pygments_lexer": "ipython3",
   "version": "3.7.6"
  }
 },
 "nbformat": 4,
 "nbformat_minor": 4
}
